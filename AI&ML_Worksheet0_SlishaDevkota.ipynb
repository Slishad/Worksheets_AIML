{
  "nbformat": 4,
  "nbformat_minor": 0,
  "metadata": {
    "colab": {
      "provenance": []
    },
    "kernelspec": {
      "name": "python3",
      "display_name": "Python 3"
    },
    "language_info": {
      "name": "python"
    }
  },
  "cells": [
    {
      "cell_type": "markdown",
      "source": [
        "###Worksheet 0"
      ],
      "metadata": {
        "id": "JzTVwbDhq8AH"
      }
    },
    {
      "cell_type": "markdown",
      "source": [
        "##Importing All the necessary Libraries"
      ],
      "metadata": {
        "id": "JnQUpqelq9LA"
      }
    },
    {
      "cell_type": "code",
      "source": [
        "import numpy as np\n",
        "import time"
      ],
      "metadata": {
        "id": "Vz8WejvDrCsu"
      },
      "execution_count": 39,
      "outputs": []
    },
    {
      "cell_type": "markdown",
      "source": [
        "##Problem - 1:Array Creation"
      ],
      "metadata": {
        "id": "VVSa9Iqur0Y0"
      }
    },
    {
      "cell_type": "markdown",
      "source": [
        "1. Initializating Empty Array (2*2)"
      ],
      "metadata": {
        "id": "RarMrKDHr6aU"
      }
    },
    {
      "cell_type": "code",
      "source": [
        "array = np.empty((2,2))\n",
        "array #it contains garbage values"
      ],
      "metadata": {
        "colab": {
          "base_uri": "https://localhost:8080/"
        },
        "id": "dDdyAiodr4Kq",
        "outputId": "45726610-ee07-49e1-ae20-d116fda94651"
      },
      "execution_count": 40,
      "outputs": [
        {
          "output_type": "execute_result",
          "data": {
            "text/plain": [
              "array([[0., 0.],\n",
              "       [0., 0.]])"
            ]
          },
          "metadata": {},
          "execution_count": 40
        }
      ]
    },
    {
      "cell_type": "code",
      "source": [
        "array = np.zeros((2,2))\n",
        "array #intitilizing zero"
      ],
      "metadata": {
        "colab": {
          "base_uri": "https://localhost:8080/"
        },
        "id": "Zpf0xO5NsRcf",
        "outputId": "7b7ca9c3-3981-4a71-b363-31cc38eda841"
      },
      "execution_count": 41,
      "outputs": [
        {
          "output_type": "execute_result",
          "data": {
            "text/plain": [
              "array([[0., 0.],\n",
              "       [0., 0.]])"
            ]
          },
          "metadata": {},
          "execution_count": 41
        }
      ]
    },
    {
      "cell_type": "code",
      "source": [
        "array = np.full((2, 2), 15)\n",
        "array #15"
      ],
      "metadata": {
        "colab": {
          "base_uri": "https://localhost:8080/"
        },
        "id": "khg9L2lOsdqd",
        "outputId": "4b74bd9e-886c-4faa-9acc-20701dff85ef"
      },
      "execution_count": 42,
      "outputs": [
        {
          "output_type": "execute_result",
          "data": {
            "text/plain": [
              "array([[15, 15],\n",
              "       [15, 15]])"
            ]
          },
          "metadata": {},
          "execution_count": 42
        }
      ]
    },
    {
      "cell_type": "markdown",
      "source": [
        "2.Initializing all one array (4*2)"
      ],
      "metadata": {
        "id": "MA_AEh5AsnDY"
      }
    },
    {
      "cell_type": "code",
      "source": [
        "array = np.ones((4,2), dtype=int) #integer type float\n",
        "array"
      ],
      "metadata": {
        "colab": {
          "base_uri": "https://localhost:8080/"
        },
        "id": "cFwRWvZvskCy",
        "outputId": "912b82f4-a213-43c1-f48a-b4553964a979"
      },
      "execution_count": 43,
      "outputs": [
        {
          "output_type": "execute_result",
          "data": {
            "text/plain": [
              "array([[1, 1],\n",
              "       [1, 1],\n",
              "       [1, 1],\n",
              "       [1, 1]])"
            ]
          },
          "metadata": {},
          "execution_count": 43
        }
      ]
    },
    {
      "cell_type": "code",
      "source": [
        "array = np.full ((4,2), 1)\n",
        "array"
      ],
      "metadata": {
        "colab": {
          "base_uri": "https://localhost:8080/"
        },
        "id": "Eo89Ldivs_4e",
        "outputId": "e1497e67-c68a-42ce-b900-550e8322bd75"
      },
      "execution_count": 44,
      "outputs": [
        {
          "output_type": "execute_result",
          "data": {
            "text/plain": [
              "array([[1, 1],\n",
              "       [1, 1],\n",
              "       [1, 1],\n",
              "       [1, 1]])"
            ]
          },
          "metadata": {},
          "execution_count": 44
        }
      ]
    },
    {
      "cell_type": "markdown",
      "source": [
        "3. A new array of given shape and type, filled with fill value.{Hint: np.full}"
      ],
      "metadata": {
        "id": "kVyQ3IggtzJw"
      }
    },
    {
      "cell_type": "code",
      "source": [
        "array =np.full((4,4),7, dtype=int)\n",
        "array"
      ],
      "metadata": {
        "colab": {
          "base_uri": "https://localhost:8080/"
        },
        "id": "3Upd8JsMttou",
        "outputId": "83126374-16b1-4d40-92c6-43d3d1b8514d"
      },
      "execution_count": 45,
      "outputs": [
        {
          "output_type": "execute_result",
          "data": {
            "text/plain": [
              "array([[7, 7, 7, 7],\n",
              "       [7, 7, 7, 7],\n",
              "       [7, 7, 7, 7],\n",
              "       [7, 7, 7, 7]])"
            ]
          },
          "metadata": {},
          "execution_count": 45
        }
      ]
    },
    {
      "cell_type": "markdown",
      "source": [
        "4. New array of zeros with same shape and type as given array"
      ],
      "metadata": {
        "id": "BVAWQNfouJi7"
      }
    },
    {
      "cell_type": "code",
      "source": [
        "array = np.full((4, 4), 8)\n",
        "new_array = np.zeros_like(array)\n",
        "new_array"
      ],
      "metadata": {
        "colab": {
          "base_uri": "https://localhost:8080/"
        },
        "id": "LVDUY71luIki",
        "outputId": "211a9967-bc3d-45c4-fa65-683c034448e7"
      },
      "execution_count": 46,
      "outputs": [
        {
          "output_type": "execute_result",
          "data": {
            "text/plain": [
              "array([[0, 0, 0, 0],\n",
              "       [0, 0, 0, 0],\n",
              "       [0, 0, 0, 0],\n",
              "       [0, 0, 0, 0]])"
            ]
          },
          "metadata": {},
          "execution_count": 46
        }
      ]
    },
    {
      "cell_type": "markdown",
      "source": [
        "###5. New array of ones with same shape and type as given array"
      ],
      "metadata": {
        "id": "fiqiknFUuTes"
      }
    },
    {
      "cell_type": "code",
      "source": [
        "array = np.full((4, 3), 8)\n",
        "new_array = np.ones_like(array)\n",
        "new_array"
      ],
      "metadata": {
        "colab": {
          "base_uri": "https://localhost:8080/"
        },
        "id": "FAQmLYFsuWjg",
        "outputId": "e085bb13-3cf7-4b96-aca6-bf9834b8e376"
      },
      "execution_count": 47,
      "outputs": [
        {
          "output_type": "execute_result",
          "data": {
            "text/plain": [
              "array([[1, 1, 1],\n",
              "       [1, 1, 1],\n",
              "       [1, 1, 1],\n",
              "       [1, 1, 1]])"
            ]
          },
          "metadata": {},
          "execution_count": 47
        }
      ]
    },
    {
      "cell_type": "markdown",
      "source": [
        "6. For an existing list new_list = [1,2,3,4] convert to an numpy array.{Hint: np.array()}"
      ],
      "metadata": {
        "id": "vEoTz4NQuWIw"
      }
    },
    {
      "cell_type": "code",
      "source": [
        "new_list = [1, 2, 3, 4]\n",
        "np_list = np.array(new_list)\n",
        "print(\"Normal List: \", new_list)\n",
        "print(\"Numpy List: \", np_list)"
      ],
      "metadata": {
        "colab": {
          "base_uri": "https://localhost:8080/"
        },
        "id": "RR7QgxcYunRC",
        "outputId": "9cf603a9-a491-4f83-fa1b-d5ae1da0b275"
      },
      "execution_count": 48,
      "outputs": [
        {
          "output_type": "stream",
          "name": "stdout",
          "text": [
            "Normal List:  [1, 2, 3, 4]\n",
            "Numpy List:  [1 2 3 4]\n"
          ]
        }
      ]
    },
    {
      "cell_type": "markdown",
      "source": [
        "##Problem - 2: Array Manipulation: Numerical Ranges and Array Indexing"
      ],
      "metadata": {
        "id": "9XwJqO9muRyq"
      }
    },
    {
      "cell_type": "markdown",
      "source": [
        "1. Create an array with values ranging from 10 to 49. {Hint:np.arrange()}."
      ],
      "metadata": {
        "id": "X2jGoRmBu3Yx"
      }
    },
    {
      "cell_type": "code",
      "source": [
        "arr = np.arange (10,50)\n",
        "arr"
      ],
      "metadata": {
        "colab": {
          "base_uri": "https://localhost:8080/"
        },
        "id": "dn3_q5-YusCQ",
        "outputId": "fd545b91-700f-4218-ad9f-c4b5eee2d1a7"
      },
      "execution_count": 49,
      "outputs": [
        {
          "output_type": "execute_result",
          "data": {
            "text/plain": [
              "array([10, 11, 12, 13, 14, 15, 16, 17, 18, 19, 20, 21, 22, 23, 24, 25, 26,\n",
              "       27, 28, 29, 30, 31, 32, 33, 34, 35, 36, 37, 38, 39, 40, 41, 42, 43,\n",
              "       44, 45, 46, 47, 48, 49])"
            ]
          },
          "metadata": {},
          "execution_count": 49
        }
      ]
    },
    {
      "cell_type": "markdown",
      "source": [
        "2. Create a 3X3 matrix with values ranging from 0 to 8."
      ],
      "metadata": {
        "id": "BweOl35UvCNE"
      }
    },
    {
      "cell_type": "code",
      "source": [
        "arr = np.arange(0, 9)\n",
        "reshaped = np.reshape(arr, (3, 3))\n",
        "print(arr)\n",
        "print(reshaped)"
      ],
      "metadata": {
        "colab": {
          "base_uri": "https://localhost:8080/"
        },
        "id": "0A4TD82zvFZO",
        "outputId": "12c22252-6573-4eeb-cf10-1b3401a796d0"
      },
      "execution_count": 50,
      "outputs": [
        {
          "output_type": "stream",
          "name": "stdout",
          "text": [
            "[0 1 2 3 4 5 6 7 8]\n",
            "[[0 1 2]\n",
            " [3 4 5]\n",
            " [6 7 8]]\n"
          ]
        }
      ]
    },
    {
      "cell_type": "markdown",
      "source": [
        "3. Create a 3X3 identity matrix."
      ],
      "metadata": {
        "id": "v8KaymBlvKFl"
      }
    },
    {
      "cell_type": "code",
      "source": [
        "array =np.eye (3, dtype=int)\n",
        "array"
      ],
      "metadata": {
        "colab": {
          "base_uri": "https://localhost:8080/"
        },
        "id": "juwaFlZSvOO6",
        "outputId": "b9b9bb3a-da8a-4958-f628-050911d76bb2"
      },
      "execution_count": 51,
      "outputs": [
        {
          "output_type": "execute_result",
          "data": {
            "text/plain": [
              "array([[1, 0, 0],\n",
              "       [0, 1, 0],\n",
              "       [0, 0, 1]])"
            ]
          },
          "metadata": {},
          "execution_count": 51
        }
      ]
    },
    {
      "cell_type": "markdown",
      "source": [
        "4. Create a random array of size 30 and find the mean of the array."
      ],
      "metadata": {
        "id": "7l1ACZKFvUhn"
      }
    },
    {
      "cell_type": "code",
      "source": [
        "random_array = np.random.random(30)\n",
        "\n",
        "mean_array = random_array.mean()\n",
        "\n",
        "print(random_array)\n",
        "print(\"Mean: \", mean_array)"
      ],
      "metadata": {
        "colab": {
          "base_uri": "https://localhost:8080/"
        },
        "id": "NiW3pMCrvSKK",
        "outputId": "ceb802a7-65cc-4a16-af1f-c352a0d46ba0"
      },
      "execution_count": 52,
      "outputs": [
        {
          "output_type": "stream",
          "name": "stdout",
          "text": [
            "[0.64195886 0.23205056 0.04050533 0.4605767  0.56394976 0.08411532\n",
            " 0.56165319 0.93007714 0.69359497 0.76932052 0.80270174 0.45622613\n",
            " 0.72135693 0.85210879 0.83641182 0.90579787 0.53251151 0.63367972\n",
            " 0.35388658 0.82680116 0.46932294 0.61284735 0.81530621 0.86945959\n",
            " 0.52519205 0.9623494  0.66843293 0.78069895 0.45418329 0.15024328]\n",
            "Mean:  0.6069106862247983\n"
          ]
        }
      ]
    },
    {
      "cell_type": "markdown",
      "source": [
        "5. Create a 10X10 array with random values and find the minimum and maximum values."
      ],
      "metadata": {
        "id": "SUY5HK2CvnC1"
      }
    },
    {
      "cell_type": "code",
      "source": [
        "# random_arr = np.random.random((10, 10))\n",
        "random_arr = np.random.randint(1, 10, (10, 10))\n",
        "min = random_arr.min()\n",
        "max = random_arr.max()\n",
        "\n",
        "print(random_arr)\n",
        "print()\n",
        "print(\"Min: \", min)\n",
        "print(\"Max: \", max)"
      ],
      "metadata": {
        "colab": {
          "base_uri": "https://localhost:8080/"
        },
        "id": "5lNAQDzTvqrq",
        "outputId": "fbb161bc-7932-4a6f-b933-12b3fdab44ea"
      },
      "execution_count": 53,
      "outputs": [
        {
          "output_type": "stream",
          "name": "stdout",
          "text": [
            "[[8 2 6 5 3 7 9 7 2 4]\n",
            " [6 4 3 6 2 6 1 4 2 8]\n",
            " [7 1 1 7 7 9 7 3 4 7]\n",
            " [9 6 3 7 1 8 9 3 7 2]\n",
            " [9 4 7 5 9 7 7 4 7 8]\n",
            " [2 2 9 2 1 2 2 6 2 9]\n",
            " [7 1 2 9 4 7 8 9 6 4]\n",
            " [9 5 4 9 4 1 7 6 9 3]\n",
            " [4 5 1 5 4 7 2 7 5 6]\n",
            " [6 2 3 9 4 8 4 7 3 9]]\n",
            "\n",
            "Min:  1\n",
            "Max:  9\n"
          ]
        }
      ]
    },
    {
      "cell_type": "markdown",
      "source": [
        "6. Create a zero array of size 10 and replace 5th element with 1."
      ],
      "metadata": {
        "id": "aAHOR2NUwOZn"
      }
    },
    {
      "cell_type": "code",
      "source": [
        "array = np.zeros(10, dtype=int)\n",
        "print(array)\n",
        "array[4] = 1\n",
        "print(array)"
      ],
      "metadata": {
        "colab": {
          "base_uri": "https://localhost:8080/"
        },
        "id": "-8EtiBDmwSE1",
        "outputId": "4f313449-74fe-497d-ac0d-429cf9ff5998"
      },
      "execution_count": 54,
      "outputs": [
        {
          "output_type": "stream",
          "name": "stdout",
          "text": [
            "[0 0 0 0 0 0 0 0 0 0]\n",
            "[0 0 0 0 1 0 0 0 0 0]\n"
          ]
        }
      ]
    },
    {
      "cell_type": "markdown",
      "source": [
        "7. Reverse an array arr = [1,2,0,0,4,0]."
      ],
      "metadata": {
        "id": "jKEPuwWrwUfo"
      }
    },
    {
      "cell_type": "code",
      "source": [
        "arr = [1,2,0,0,4,0]\n",
        "rev_arr = arr[::-1]\n",
        "rev_arr"
      ],
      "metadata": {
        "colab": {
          "base_uri": "https://localhost:8080/"
        },
        "id": "N5dGCgM_wUI7",
        "outputId": "1ad75cf6-0279-49ec-980f-ee3bac5a2f77"
      },
      "execution_count": 55,
      "outputs": [
        {
          "output_type": "execute_result",
          "data": {
            "text/plain": [
              "[0, 4, 0, 0, 2, 1]"
            ]
          },
          "metadata": {},
          "execution_count": 55
        }
      ]
    },
    {
      "cell_type": "markdown",
      "source": [
        "8. Create a 2d array with 1 on border and 0 inside."
      ],
      "metadata": {
        "id": "2MbhRJCZwmj2"
      }
    },
    {
      "cell_type": "code",
      "source": [
        "arr = np.random.randint(1, 10, (7, 7))\n",
        "\n",
        "# arr = np.zeros_like(arr)\n",
        "arr[0, :] = 1\n",
        "arr[-1, :] = 1\n",
        "arr[:, 0] = 1\n",
        "arr[:, -1] = 1\n",
        "\n",
        "arr[0:-1, 1:-1] = 0\n",
        "\n",
        "arr"
      ],
      "metadata": {
        "colab": {
          "base_uri": "https://localhost:8080/"
        },
        "id": "lHsjhpumwolj",
        "outputId": "63210931-1a4c-4274-bc65-686f58bdef3c"
      },
      "execution_count": 56,
      "outputs": [
        {
          "output_type": "execute_result",
          "data": {
            "text/plain": [
              "array([[1, 0, 0, 0, 0, 0, 1],\n",
              "       [1, 0, 0, 0, 0, 0, 1],\n",
              "       [1, 0, 0, 0, 0, 0, 1],\n",
              "       [1, 0, 0, 0, 0, 0, 1],\n",
              "       [1, 0, 0, 0, 0, 0, 1],\n",
              "       [1, 0, 0, 0, 0, 0, 1],\n",
              "       [1, 1, 1, 1, 1, 1, 1]])"
            ]
          },
          "metadata": {},
          "execution_count": 56
        }
      ]
    },
    {
      "cell_type": "markdown",
      "source": [
        "9. Create a 8X8 matrix and fill it with a checkerboard pattern."
      ],
      "metadata": {
        "id": "qsCYwehMwuOM"
      }
    },
    {
      "cell_type": "code",
      "source": [
        "array = np.zeros((9, 9), dtype=int)\n",
        "\n",
        "array[1::2, 0::2] = 1\n",
        "array[::2, 1::2] = 1\n",
        "array"
      ],
      "metadata": {
        "colab": {
          "base_uri": "https://localhost:8080/"
        },
        "id": "iF61fDkiwvLV",
        "outputId": "d3f67e30-b156-4c3f-eb93-f2cf771ba505"
      },
      "execution_count": 57,
      "outputs": [
        {
          "output_type": "execute_result",
          "data": {
            "text/plain": [
              "array([[0, 1, 0, 1, 0, 1, 0, 1, 0],\n",
              "       [1, 0, 1, 0, 1, 0, 1, 0, 1],\n",
              "       [0, 1, 0, 1, 0, 1, 0, 1, 0],\n",
              "       [1, 0, 1, 0, 1, 0, 1, 0, 1],\n",
              "       [0, 1, 0, 1, 0, 1, 0, 1, 0],\n",
              "       [1, 0, 1, 0, 1, 0, 1, 0, 1],\n",
              "       [0, 1, 0, 1, 0, 1, 0, 1, 0],\n",
              "       [1, 0, 1, 0, 1, 0, 1, 0, 1],\n",
              "       [0, 1, 0, 1, 0, 1, 0, 1, 0]])"
            ]
          },
          "metadata": {},
          "execution_count": 57
        }
      ]
    },
    {
      "cell_type": "markdown",
      "source": [
        "##Problem - 3: Array Operations"
      ],
      "metadata": {
        "id": "QNt3hv_hwzEo"
      }
    },
    {
      "cell_type": "code",
      "source": [
        "x = np.array([[1, 2], [3, 5]])\n",
        "y = np.array([[5, 6], [7, 8]])\n",
        "v = np.array([9, 10])\n",
        "w = np.array([11, 12])"
      ],
      "metadata": {
        "id": "qcrTdMDMxARo"
      },
      "execution_count": 58,
      "outputs": []
    },
    {
      "cell_type": "markdown",
      "source": [
        "Complete all the task using numpy:\n",
        "1. Add the two array."
      ],
      "metadata": {
        "id": "NXbKSKhtw46D"
      }
    },
    {
      "cell_type": "code",
      "source": [
        "sum = x + y\n",
        "sum1 = v + w\n",
        "print(sum)\n",
        "print()\n",
        "print(sum1)"
      ],
      "metadata": {
        "colab": {
          "base_uri": "https://localhost:8080/"
        },
        "id": "YFIfoWKYw84P",
        "outputId": "9932cc2d-345d-4493-cff5-b9be77b976d9"
      },
      "execution_count": 59,
      "outputs": [
        {
          "output_type": "stream",
          "name": "stdout",
          "text": [
            "[[ 6  8]\n",
            " [10 13]]\n",
            "\n",
            "[20 22]\n"
          ]
        }
      ]
    },
    {
      "cell_type": "markdown",
      "source": [
        "2. Subtract the two array."
      ],
      "metadata": {
        "id": "Ve-WLjtnxGPC"
      }
    },
    {
      "cell_type": "code",
      "source": [
        "sub = x - y\n",
        "sub1 = v - w\n",
        "print(sub)\n",
        "print()\n",
        "print(sub1)"
      ],
      "metadata": {
        "colab": {
          "base_uri": "https://localhost:8080/"
        },
        "id": "KHzlh26yxILf",
        "outputId": "c1ee1fd7-284e-4bc0-a26d-0cc139dba169"
      },
      "execution_count": 60,
      "outputs": [
        {
          "output_type": "stream",
          "name": "stdout",
          "text": [
            "[[-4 -4]\n",
            " [-4 -3]]\n",
            "\n",
            "[-2 -2]\n"
          ]
        }
      ]
    },
    {
      "cell_type": "markdown",
      "source": [
        "3. Multiply the array with any integers of your choice."
      ],
      "metadata": {
        "id": "4NvuuMycxMWs"
      }
    },
    {
      "cell_type": "code",
      "source": [
        "multiplyArray = 7* x\n",
        "multiplyArray"
      ],
      "metadata": {
        "colab": {
          "base_uri": "https://localhost:8080/"
        },
        "id": "nw2kYdOKxNHG",
        "outputId": "a1e964c5-2e13-49e6-a633-f7c0585c3a01"
      },
      "execution_count": 73,
      "outputs": [
        {
          "output_type": "execute_result",
          "data": {
            "text/plain": [
              "array([[ 7, 14],\n",
              "       [21, 35]])"
            ]
          },
          "metadata": {},
          "execution_count": 73
        }
      ]
    },
    {
      "cell_type": "markdown",
      "source": [
        "4. Find the square of each element of the array."
      ],
      "metadata": {
        "id": "SYLXJcpmxWuG"
      }
    },
    {
      "cell_type": "code",
      "source": [
        "powerArray = x ** 2\n",
        "powerArray"
      ],
      "metadata": {
        "colab": {
          "base_uri": "https://localhost:8080/"
        },
        "id": "1qPyoIgIxY7D",
        "outputId": "bdf7c4c5-7f5d-4528-df41-fa0e57105af5"
      },
      "execution_count": 62,
      "outputs": [
        {
          "output_type": "execute_result",
          "data": {
            "text/plain": [
              "array([[ 1,  4],\n",
              "       [ 9, 25]])"
            ]
          },
          "metadata": {},
          "execution_count": 62
        }
      ]
    },
    {
      "cell_type": "markdown",
      "source": [
        "Find the dot product between: v(and)w ; x(and)v ; x(and)y."
      ],
      "metadata": {
        "id": "rtkpBRn8xg0_"
      }
    },
    {
      "cell_type": "code",
      "source": [
        "vDotw = np.dot(v, w)\n",
        "xDotv = np.dot(x, v)\n",
        "xDoty = np.dot(x, y)\n",
        "\n",
        "print(f\"V.W: {vDotw}\")\n",
        "print(f\"X.V: {xDotv}\")\n",
        "print(f\"X.Y: \\n{xDoty}\")"
      ],
      "metadata": {
        "colab": {
          "base_uri": "https://localhost:8080/"
        },
        "id": "fmcoPFkNxkYC",
        "outputId": "6093c63c-f308-4629-e457-b521da149122"
      },
      "execution_count": 63,
      "outputs": [
        {
          "output_type": "stream",
          "name": "stdout",
          "text": [
            "V.W: 219\n",
            "X.V: [29 77]\n",
            "X.Y: \n",
            "[[19 22]\n",
            " [50 58]]\n"
          ]
        }
      ]
    },
    {
      "cell_type": "markdown",
      "source": [
        "6. Concatenate x(and)y along row and Concatenate v(and)w along column.\n",
        "{Hint:try np.concatenate() or np.vstack() functions."
      ],
      "metadata": {
        "id": "o8fLLyJMxppg"
      }
    },
    {
      "cell_type": "code",
      "source": [
        "conxy = np.concatenate((x, y), axis = 0)\n",
        "convw = np.vstack((v, w))\n",
        "print(conxy)\n",
        "print()\n",
        "print(convw)"
      ],
      "metadata": {
        "colab": {
          "base_uri": "https://localhost:8080/"
        },
        "id": "1oLKBXJVxqlZ",
        "outputId": "b4ea6e6b-00c3-4455-cd17-c735c2c9879e"
      },
      "execution_count": 64,
      "outputs": [
        {
          "output_type": "stream",
          "name": "stdout",
          "text": [
            "[[1 2]\n",
            " [3 5]\n",
            " [5 6]\n",
            " [7 8]]\n",
            "\n",
            "[[ 9 10]\n",
            " [11 12]]\n"
          ]
        }
      ]
    },
    {
      "cell_type": "markdown",
      "source": [
        "7. Concatenate x(and)v; if you get an error, observe and explain why did you get the error?"
      ],
      "metadata": {
        "id": "XECMCotZxu9z"
      }
    },
    {
      "cell_type": "code",
      "source": [
        "conxv = np.concatenate((x, v), axis = 0)\n",
        "conxv\n",
        "#ERROR is caused the arrays should have the same number of dimensions\n",
        "#x is a 2D array where as v is a 1D array"
      ],
      "metadata": {
        "colab": {
          "base_uri": "https://localhost:8080/",
          "height": 193
        },
        "id": "NwXlLD4WxySS",
        "outputId": "9144564d-06c6-4445-ded3-fe8a0a7c961e"
      },
      "execution_count": 66,
      "outputs": [
        {
          "output_type": "error",
          "ename": "ValueError",
          "evalue": "all the input arrays must have same number of dimensions, but the array at index 0 has 2 dimension(s) and the array at index 1 has 1 dimension(s)",
          "traceback": [
            "\u001b[0;31m---------------------------------------------------------------------------\u001b[0m",
            "\u001b[0;31mValueError\u001b[0m                                Traceback (most recent call last)",
            "\u001b[0;32m<ipython-input-66-3d6bab8b16da>\u001b[0m in \u001b[0;36m<cell line: 0>\u001b[0;34m()\u001b[0m\n\u001b[0;32m----> 1\u001b[0;31m \u001b[0mconxv\u001b[0m \u001b[0;34m=\u001b[0m \u001b[0mnp\u001b[0m\u001b[0;34m.\u001b[0m\u001b[0mconcatenate\u001b[0m\u001b[0;34m(\u001b[0m\u001b[0;34m(\u001b[0m\u001b[0mx\u001b[0m\u001b[0;34m,\u001b[0m \u001b[0mv\u001b[0m\u001b[0;34m)\u001b[0m\u001b[0;34m,\u001b[0m \u001b[0maxis\u001b[0m \u001b[0;34m=\u001b[0m \u001b[0;36m0\u001b[0m\u001b[0;34m)\u001b[0m\u001b[0;34m\u001b[0m\u001b[0;34m\u001b[0m\u001b[0m\n\u001b[0m\u001b[1;32m      2\u001b[0m \u001b[0mconxv\u001b[0m\u001b[0;34m\u001b[0m\u001b[0;34m\u001b[0m\u001b[0m\n\u001b[1;32m      3\u001b[0m \u001b[0;31m#ERROR is caused the arrays should have the same number of dimensions\u001b[0m\u001b[0;34m\u001b[0m\u001b[0;34m\u001b[0m\u001b[0m\n\u001b[1;32m      4\u001b[0m \u001b[0;31m#x is a 2D array where as v is a 1D array\u001b[0m\u001b[0;34m\u001b[0m\u001b[0;34m\u001b[0m\u001b[0m\n",
            "\u001b[0;31mValueError\u001b[0m: all the input arrays must have same number of dimensions, but the array at index 0 has 2 dimension(s) and the array at index 1 has 1 dimension(s)"
          ]
        }
      ]
    },
    {
      "cell_type": "markdown",
      "source": [
        "##Problem - 4: Matrix Operations:"
      ],
      "metadata": {
        "id": "hv2IdXNMx-_f"
      }
    },
    {
      "cell_type": "code",
      "source": [
        "A = np.array([[3, 4], [7, 8]])\n",
        "B = np.array([[5, 3], [2, 1]])"
      ],
      "metadata": {
        "id": "Y3ihJUwjktpV"
      },
      "execution_count": 67,
      "outputs": []
    },
    {
      "cell_type": "markdown",
      "source": [
        "1. Prove A.A−1 = I."
      ],
      "metadata": {
        "id": "dhKAAMT9yWeL"
      }
    },
    {
      "cell_type": "code",
      "source": [
        "InverseOF_A = np.linalg.inv(A)\n",
        "proof = np.round(np.matmul(A, InverseOF_A))\n",
        "proof"
      ],
      "metadata": {
        "colab": {
          "base_uri": "https://localhost:8080/"
        },
        "id": "Hpp9WgifyYHz",
        "outputId": "9636abad-f154-4826-c378-4f4bfa711215"
      },
      "execution_count": 68,
      "outputs": [
        {
          "output_type": "execute_result",
          "data": {
            "text/plain": [
              "array([[1., 0.],\n",
              "       [0., 1.]])"
            ]
          },
          "metadata": {},
          "execution_count": 68
        }
      ]
    },
    {
      "cell_type": "markdown",
      "source": [
        "2. Prove AB ̸= BA."
      ],
      "metadata": {
        "id": "EHh7_1oyygTw"
      }
    },
    {
      "cell_type": "code",
      "source": [
        "AB = np.matmul(A, B)\n",
        "BA = np.matmul(B, A)\n",
        "\n",
        "print(f\"AB:\\n{AB} \\nBA:\\n{BA}\")"
      ],
      "metadata": {
        "colab": {
          "base_uri": "https://localhost:8080/"
        },
        "id": "S-vxAc-zyhEq",
        "outputId": "3e9135d9-756e-4c17-bc51-356eed289363"
      },
      "execution_count": 69,
      "outputs": [
        {
          "output_type": "stream",
          "name": "stdout",
          "text": [
            "AB:\n",
            "[[23 13]\n",
            " [51 29]] \n",
            "BA:\n",
            "[[36 44]\n",
            " [13 16]]\n"
          ]
        }
      ]
    },
    {
      "cell_type": "markdown",
      "source": [
        "3. Prove (AB)T = BTAT"
      ],
      "metadata": {
        "id": "n4-tD118yjPP"
      }
    },
    {
      "cell_type": "code",
      "source": [
        "AB = np.matmul(A, B)\n",
        "AB_T = AB.T\n",
        "B_T = B.T\n",
        "A_T = A.T\n",
        "B_T_Dot_A_T = np.matmul(B_T, A_T)\n",
        "\n",
        "print(f\"AB_T: \\n{AB_T} \\n\\n B_T.A_T: \\n{B_T_Dot_A_T}\")"
      ],
      "metadata": {
        "colab": {
          "base_uri": "https://localhost:8080/"
        },
        "id": "HDdyvJixymw8",
        "outputId": "4f93afeb-ad20-46c7-efb7-0112b496dac2"
      },
      "execution_count": 70,
      "outputs": [
        {
          "output_type": "stream",
          "name": "stdout",
          "text": [
            "AB_T: \n",
            "[[23 51]\n",
            " [13 29]] \n",
            "\n",
            " B_T.A_T: \n",
            "[[23 51]\n",
            " [13 29]]\n"
          ]
        }
      ]
    },
    {
      "cell_type": "markdown",
      "source": [
        "Solve the following system of Linear equation using Inverse Methods."
      ],
      "metadata": {
        "id": "PFXqrkQ5ywy5"
      }
    },
    {
      "cell_type": "code",
      "source": [
        "A = np.array([[2, -3, 1],\n",
        "              [1, -1, 2],\n",
        "              [3, 1,  -1]])\n",
        "B = np.array([-1, -3, 9])\n",
        "\n",
        "A_Inverse = np.linalg.inv(A)\n",
        "\n",
        "X = np.matmul(A_Inverse, B)\n",
        "\n",
        "print(f\"[x y z] = {X}\")"
      ],
      "metadata": {
        "colab": {
          "base_uri": "https://localhost:8080/"
        },
        "id": "k3wqXbYAywYK",
        "outputId": "bd67f920-c522-48ca-f6bc-2cc9c2304c2b"
      },
      "execution_count": 71,
      "outputs": [
        {
          "output_type": "stream",
          "name": "stdout",
          "text": [
            "[x y z] = [ 2.  1. -2.]\n"
          ]
        }
      ]
    },
    {
      "cell_type": "markdown",
      "source": [
        "##Numpy Speed"
      ],
      "metadata": {
        "id": "sUf9dIipyzIT"
      }
    },
    {
      "cell_type": "code",
      "source": [
        "import builtins  # Ensures we use the original Python sum() function\n",
        "\n",
        "size = 1000000\n",
        "matrices = 1000\n",
        "\n",
        "# Lists for normal Python operations\n",
        "pyArray1 = list(range(size))\n",
        "pyArray2 = list(range(size))\n",
        "\n",
        "# NumPy arrays for optimized operations\n",
        "npArray1 = np.arange(size)\n",
        "npArray2 = np.arange(size)\n",
        "\n",
        "# Addition Benchmark\n",
        "sTime = time.time()\n",
        "pySum = [pyArray1[i] + pyArray2[i] for i in range(size)]\n",
        "pyTimeAdd = time.time() - sTime\n",
        "\n",
        "sTime = time.time()\n",
        "npSum = npArray1 + npArray2\n",
        "npTimeAdd = time.time() - sTime\n",
        "\n",
        "print(f\"Addition Time: \\nNumpy: {npTimeAdd:.5f} \\nNormal Py list: {pyTimeAdd:.5f}\\n\")\n",
        "\n",
        "# Element-wise Multiplication Benchmark\n",
        "sTime = time.time()\n",
        "pyMul = [pyArray1[i] * pyArray2[i] for i in range(size)]\n",
        "pyTimeMul = time.time() - sTime\n",
        "\n",
        "sTime = time.time()\n",
        "npMul = npArray1 * npArray2\n",
        "npTimeMul = time.time() - sTime\n",
        "\n",
        "print(f\"Element Multiplication Time: \\nNumpy: {npTimeMul:.5f} \\nNormal Py list: {pyTimeMul:.5f}\\n\")\n",
        "\n",
        "# Dot Product Benchmark\n",
        "sTime = time.time()\n",
        "pyDot = builtins.sum(pyArray1[i] * pyArray2[i] for i in range(size))  # Ensuring sum() is not overridden\n",
        "pyTimeDot = time.time() - sTime\n",
        "\n",
        "sTime = time.time()\n",
        "npDot = np.dot(npArray1, npArray2)\n",
        "npTimeDot = time.time() - sTime\n",
        "\n",
        "print(f\"Dot Product Time: \\nNumpy: {npTimeDot:.5f} \\nNormal Py list: {pyTimeDot:.5f}\\n\")\n",
        "\n",
        "# Matrix Multiplication Setup\n",
        "pyMat1 = [[j for j in range(matrices)] for i in range(matrices)]\n",
        "pyMat2 = [[j for j in range(matrices)] for i in range(matrices)]\n",
        "\n",
        "npMat1 = np.arange(matrices**2).reshape(matrices, matrices)\n",
        "npMat2 = np.arange(matrices**2).reshape(matrices, matrices)\n",
        "\n",
        "# Matrix Multiplication Benchmark\n",
        "sTime = time.time()\n",
        "pyMatMul = [[builtins.sum(pyMat1[i][k] * pyMat2[k][j] for k in range(matrices)) for j in range(matrices)] for i in range(matrices)]\n",
        "pyTimeMatMul = time.time() - sTime\n",
        "\n",
        "sTime = time.time()\n",
        "npMatMul = np.dot(npMat1, npMat2)\n",
        "npTimeMatMul = time.time() - sTime\n",
        "\n",
        "print(f\"Matrix Multiplication Time: \\nNumpy: {npTimeMatMul:.5f} \\nNormal Py list: {pyTimeMatMul:.5f}\\n\")\n"
      ],
      "metadata": {
        "colab": {
          "base_uri": "https://localhost:8080/"
        },
        "id": "s8W_pecD13QP",
        "outputId": "3eb01439-8621-4756-abb3-894e25245d12"
      },
      "execution_count": 75,
      "outputs": [
        {
          "output_type": "stream",
          "name": "stdout",
          "text": [
            "Addition Time: \n",
            "Numpy: 0.00135 \n",
            "Normal Py list: 0.04972\n",
            "\n",
            "Element Multiplication Time: \n",
            "Numpy: 0.00127 \n",
            "Normal Py list: 0.15213\n",
            "\n",
            "Dot Product Time: \n",
            "Numpy: 0.00180 \n",
            "Normal Py list: 0.06014\n",
            "\n",
            "Matrix Multiplication Time: \n",
            "Numpy: 0.91554 \n",
            "Normal Py list: 137.21934\n",
            "\n"
          ]
        }
      ]
    }
  ]
}